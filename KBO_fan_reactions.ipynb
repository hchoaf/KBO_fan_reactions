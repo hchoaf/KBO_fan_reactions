{
 "cells": [
  {
   "cell_type": "code",
   "execution_count": 279,
   "metadata": {},
   "outputs": [],
   "source": [
    "from konlpy.tag import Kkma\n",
    "from konlpy.utils import pprint\n",
    "from konlpy.tag import Okt\n",
    "import datetime as dt\n",
    "from collections import Counter\n",
    "from wordcloud import WordCloud\n",
    "from matplotlib import pyplot as plt\n",
    "from urllib.request import urlopen\n",
    "from bs4 import BeautifulSoup\n",
    "import requests"
   ]
  },
  {
   "cell_type": "code",
   "execution_count": 280,
   "metadata": {},
   "outputs": [],
   "source": [
    "\n",
    "okt = Okt()"
   ]
  },
  {
   "cell_type": "markdown",
   "metadata": {},
   "source": [
    "### to_datetime(dateTime)\n",
    "dateTime: string in 'YYYY-MM-DD HH:MM:SS' format <br>\n",
    "returns dateTime object (YYYY, MM, DD, HH, MM, SS)"
   ]
  },
  {
   "cell_type": "code",
   "execution_count": 281,
   "metadata": {},
   "outputs": [],
   "source": [
    "def to_datetime(dateTime):\n",
    "    yyyymmdd = dateTime.split(' ')[0]\n",
    "    hhmmss = dateTime.split(' ')[1]\n",
    "\n",
    "    yyyy = int(yyyymmdd.split('-')[0])\n",
    "    mm = int(yyyymmdd.split('-')[1])\n",
    "    dd = int(yyyymmdd.split('-')[2])\n",
    "    hh = int(hhmmss.split(':')[0])\n",
    "    mmin = int(hhmmss.split(':')[1])\n",
    "    ss = int(hhmmss.split(':')[2])\n",
    "    \n",
    "    return dt.datetime(yyyy, mm, dd, hh, mmin, ss)\n",
    "    "
   ]
  },
  {
   "cell_type": "markdown",
   "metadata": {},
   "source": [
    "### return_page(start_time):\n",
    "start_time: string in 'YYYY-MM-DD HH:MM:SS' format <br>\n",
    "returns page containing start_time"
   ]
  },
  {
   "cell_type": "code",
   "execution_count": 289,
   "metadata": {},
   "outputs": [],
   "source": [
    "\n",
    "def return_page(start_time):\n",
    "    start_time = to_datetime(start_time)\n",
    "    \n",
    "    page_num = 1\n",
    "    root_url = \"https://gall.dcinside.com/board/lists/?id=\"\n",
    "    gall_id = \"skwyverns\"\n",
    "    target_url = root_url + gall_id + \"&page=\" + str(page_num)\n",
    "    \n",
    "    while True:\n",
    "        \n",
    "        target_url = root_url + gall_id + \"&page=\" + str(page_num)\n",
    "        req = requests.get(target_url, headers={'User-Agent':'test'})\n",
    "        text = req.text\n",
    "        soup = BeautifulSoup(text, 'html.parser')\n",
    "        article_list = soup.findAll(\"tr\", {\"data-type\": \"icon_txt\"})\n",
    "        time_list = [to_datetime(items.find(\"td\", {\"class\": \"gall_date\"})[\"title\"]) for items in article_list]\n",
    "        if start_time > time_list[-1]:\n",
    "            break\n",
    "        page_num += 1\n",
    "    return page_num\n"
   ]
  },
  {
   "cell_type": "markdown",
   "metadata": {},
   "source": [
    "### return_texts(start_time, end_time, gall_id):\n",
    "start_time, end_time: string in 'YYYY-MM-DD hh:mm:ss' format <br>\n",
    "gall_id: string of gallery id<br>\n",
    "concatenates titles of articles that were written between start_time and end_time; returns string"
   ]
  },
  {
   "cell_type": "code",
   "execution_count": 290,
   "metadata": {},
   "outputs": [],
   "source": [
    "def return_texts(start_time, end_time, gall_id):\n",
    "    end_page_num = return_page(start_time)\n",
    "    start_page_num = return_page(end_time)\n",
    "    \n",
    "    texts = []\n",
    "    times = []\n",
    "    root_url = \"https://gall.dcinside.com/board/lists/?id=\"\n",
    "    \n",
    "    for page_num in range(start_page_num, end_page_num+1):\n",
    "        \n",
    "        target_url = root_url + gall_id + \"&page=\" + str(page_num)\n",
    "\n",
    "        req = requests.get(target_url, headers={'User-Agent':'test'})\n",
    "        text = req.text\n",
    "        soup = BeautifulSoup(text, 'html.parser')\n",
    "        article_list = soup.findAll(\"tr\", {\"data-type\": [\"icon_txt\", \"icon_pic\"]})\n",
    "        text_list = [items.find(\"a\", {\"class\": None}).get_text() for items in article_list]\n",
    "        datetime_list = [to_datetime(items.find(\"td\", {\"class\": \"gall_date\"})[\"title\"]) for items in article_list]\n",
    "\n",
    "        texts += text_list\n",
    "        times += datetime_list\n",
    "\n",
    "    new_dict = dict(zip(times, texts))\n",
    "    \n",
    "    filtered = {key: value for key, value in new_dict.items() if (key > to_datetime(start_time) and key < to_datetime(end_time))}\n",
    "    ss = \"\"\n",
    "    for items in filtered.values():\n",
    "        ss += items\n",
    "        ss += \" \"\n",
    "    return ss"
   ]
  },
  {
   "cell_type": "markdown",
   "metadata": {},
   "source": [
    "### create_wordcloud(start_time, end_time, gall_id)\n",
    "creates wordcloud and saves it in root directory"
   ]
  },
  {
   "cell_type": "code",
   "execution_count": 297,
   "metadata": {},
   "outputs": [],
   "source": [
    "def create_wordcloud(start_time, end_time, gall_id):\n",
    "    string = return_texts(start_time, end_time, gall_id)\n",
    "    \n",
    "    nouns_list = okt.nouns(string)\n",
    "    counts = Counter(nouns_list)\n",
    "    wc = WordCloud(font_path = './NanumGothic.ttf', background_color = 'white', width = 1000, height = 800, max_words = 100, max_font_size = 250)\n",
    "    wc.generate_from_frequencies(counts)\n",
    "    \n",
    "    file_name = str(start_time.split(' ')[0]) + \"_\" + str(gall_id) + \".png\"\n",
    "    wc.to_file(file_name)\n",
    "    print(\"file saved as\", file_name)"
   ]
  },
  {
   "cell_type": "markdown",
   "metadata": {},
   "source": [
    "#### meaningless_words\n",
    "remove meaningless words from wordcloud <br>\n",
    "list has to be updated "
   ]
  },
  {
   "cell_type": "code",
   "execution_count": 298,
   "metadata": {},
   "outputs": [],
   "source": [
    "meaningless_words = ['왜', '또', '개', '경기', '때', '우리', '네', '년', '놈', '니', '지랄', '좆', '씨발', '존나', '병신', '새끼', '시발', '진짜', '오늘', '그냥', '뭐', '저', '너', '더', '해', '함', '쟤', '이']"
   ]
  },
  {
   "cell_type": "markdown",
   "metadata": {},
   "source": [
    "### create_wordcloud_clean\n",
    "creates a 'clean' wordcloud and saves it in root directory"
   ]
  },
  {
   "cell_type": "code",
   "execution_count": 299,
   "metadata": {},
   "outputs": [],
   "source": [
    "\n",
    "\n",
    "def create_wordcloud_clean(start_time, end_time, gall_id):\n",
    "    string = return_texts(start_time, end_time, gall_id)\n",
    "    \n",
    "    nouns_list = okt.nouns(string)\n",
    "    counts = Counter(nouns_list)\n",
    "    \n",
    "\n",
    "    clean_dict ={key:value for key,value in counts.items() if key not in meaningless_words}\n",
    "    \n",
    "    \n",
    "    wc = WordCloud(font_path = './NanumGothic.ttf', background_color = 'white', width = 1000, height = 800, max_words = 100, max_font_size = 250)\n",
    "    wc.generate_from_frequencies(clean_dict)\n",
    "    \n",
    "    file_name = str(start_time.split(' ')[0]) + \"_\" + str(gall_id) + \".png\"\n",
    "    wc.to_file(file_name)\n",
    "    print(\"file saved as filename:\", file_name)"
   ]
  },
  {
   "cell_type": "code",
   "execution_count": null,
   "metadata": {},
   "outputs": [],
   "source": []
  }
 ],
 "metadata": {
  "kernelspec": {
   "display_name": "Python 3",
   "language": "python",
   "name": "python3"
  },
  "language_info": {
   "codemirror_mode": {
    "name": "ipython",
    "version": 3
   },
   "file_extension": ".py",
   "mimetype": "text/x-python",
   "name": "python",
   "nbconvert_exporter": "python",
   "pygments_lexer": "ipython3",
   "version": "3.8.3"
  }
 },
 "nbformat": 4,
 "nbformat_minor": 4
}
